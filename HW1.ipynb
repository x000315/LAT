{
 "cells": [
  {
   "cell_type": "code",
   "execution_count": 44,
   "id": "0c30985d",
   "metadata": {},
   "outputs": [
    {
     "data": {
      "text/html": [
       "<div>\n",
       "<style scoped>\n",
       "    .dataframe tbody tr th:only-of-type {\n",
       "        vertical-align: middle;\n",
       "    }\n",
       "\n",
       "    .dataframe tbody tr th {\n",
       "        vertical-align: top;\n",
       "    }\n",
       "\n",
       "    .dataframe thead th {\n",
       "        text-align: right;\n",
       "    }\n",
       "</style>\n",
       "<table border=\"1\" class=\"dataframe\">\n",
       "  <thead>\n",
       "    <tr style=\"text-align: right;\">\n",
       "      <th></th>\n",
       "      <th>工作計畫名稱及預算數(僅列補助團體私人預算金額)</th>\n",
       "      <th>補助事項或用途</th>\n",
       "      <th>補助對象團體全銜或私人姓名</th>\n",
       "      <th>核准日期</th>\n",
       "      <th>補助計畫案總經費及分攤情形-本機關補助金額</th>\n",
       "      <th>補助計畫案總經費及分攤情形-他機關補助金額</th>\n",
       "      <th>補助計畫案總經費及分攤情形-團體或私人自付金額</th>\n",
       "      <th>補助計畫案總經費及分攤情形-合計</th>\n",
       "      <th>截至本季累計撥款金額</th>\n",
       "      <th>分攤補助款機關名稱及金額(請逐一填列)</th>\n",
       "      <th>有無涉及財物或勞務採購</th>\n",
       "      <th>處理方式(如未涉及採購則毋須填列如採公開招標請填列得標廠商)</th>\n",
       "      <th>是否為除外規定之民間團體-是</th>\n",
       "      <th>是否為除外規定之民間團體-否</th>\n",
       "    </tr>\n",
       "  </thead>\n",
       "  <tbody>\n",
       "    <tr>\n",
       "      <th>0</th>\n",
       "      <td>國民中學學務管理及獎補助(3000000元)</td>\n",
       "      <td>NaN</td>\n",
       "      <td>NaN</td>\n",
       "      <td>NaN</td>\n",
       "      <td>NaN</td>\n",
       "      <td>NaN</td>\n",
       "      <td>NaN</td>\n",
       "      <td>0</td>\n",
       "      <td>0</td>\n",
       "      <td>NaN</td>\n",
       "      <td>NaN</td>\n",
       "      <td>NaN</td>\n",
       "      <td>NaN</td>\n",
       "      <td>NaN</td>\n",
       "    </tr>\n",
       "    <tr>\n",
       "      <th>1</th>\n",
       "      <td>中央補助國民中學教育經費(0元)</td>\n",
       "      <td>補助國中畢業生多元進路宣導說明會經費</td>\n",
       "      <td>慈濟學校財團法人慈濟大學附屬高級中學</td>\n",
       "      <td>102.05.01</td>\n",
       "      <td>1696.0</td>\n",
       "      <td>0.0</td>\n",
       "      <td>0.0</td>\n",
       "      <td>1696</td>\n",
       "      <td>1696</td>\n",
       "      <td>NaN</td>\n",
       "      <td>無</td>\n",
       "      <td>NaN</td>\n",
       "      <td>v</td>\n",
       "      <td>NaN</td>\n",
       "    </tr>\n",
       "    <tr>\n",
       "      <th>2</th>\n",
       "      <td>NaN</td>\n",
       "      <td>補助國中畢業生多元進路宣導說明會經費</td>\n",
       "      <td>財團法人臺灣省花蓮縣私立海星高級中學</td>\n",
       "      <td>102.05.01</td>\n",
       "      <td>3200.0</td>\n",
       "      <td>0.0</td>\n",
       "      <td>0.0</td>\n",
       "      <td>3200</td>\n",
       "      <td>3200</td>\n",
       "      <td>NaN</td>\n",
       "      <td>無</td>\n",
       "      <td>NaN</td>\n",
       "      <td>v</td>\n",
       "      <td>NaN</td>\n",
       "    </tr>\n",
       "    <tr>\n",
       "      <th>3</th>\n",
       "      <td>國民小學學務管理及獎補助(3019000元)</td>\n",
       "      <td>補助辦理「遠哲科學紮根體驗營」活動經費</td>\n",
       "      <td>財團法人遠哲科學教育基金會</td>\n",
       "      <td>102.01.16</td>\n",
       "      <td>20000.0</td>\n",
       "      <td>0.0</td>\n",
       "      <td>0.0</td>\n",
       "      <td>20000</td>\n",
       "      <td>20000</td>\n",
       "      <td>NaN</td>\n",
       "      <td>無</td>\n",
       "      <td>NaN</td>\n",
       "      <td>v</td>\n",
       "      <td>NaN</td>\n",
       "    </tr>\n",
       "    <tr>\n",
       "      <th>4</th>\n",
       "      <td>NaN</td>\n",
       "      <td>478431號調查費</td>\n",
       "      <td>財團法人花蓮縣私立海星國民小學</td>\n",
       "      <td>102.01.30</td>\n",
       "      <td>4000.0</td>\n",
       "      <td>0.0</td>\n",
       "      <td>0.0</td>\n",
       "      <td>4000</td>\n",
       "      <td>4000</td>\n",
       "      <td>NaN</td>\n",
       "      <td>無</td>\n",
       "      <td>NaN</td>\n",
       "      <td>v</td>\n",
       "      <td>NaN</td>\n",
       "    </tr>\n",
       "  </tbody>\n",
       "</table>\n",
       "</div>"
      ],
      "text/plain": [
       "  工作計畫名稱及預算數(僅列補助團體私人預算金額)              補助事項或用途 補助對象團體全銜或私人姓名          \\\n",
       "0   國民中學學務管理及獎補助(3000000元)                  NaN                   NaN   \n",
       "1         中央補助國民中學教育經費(0元)   補助國中畢業生多元進路宣導說明會經費    慈濟學校財團法人慈濟大學附屬高級中學   \n",
       "2                      NaN   補助國中畢業生多元進路宣導說明會經費    財團法人臺灣省花蓮縣私立海星高級中學   \n",
       "3   國民小學學務管理及獎補助(3019000元)  補助辦理「遠哲科學紮根體驗營」活動經費         財團法人遠哲科學教育基金會   \n",
       "4                      NaN           478431號調查費       財團法人花蓮縣私立海星國民小學   \n",
       "\n",
       "        核准日期  補助計畫案總經費及分攤情形-本機關補助金額  補助計畫案總經費及分攤情形-他機關補助金額  \\\n",
       "0        NaN                    NaN                    NaN   \n",
       "1  102.05.01                 1696.0                    0.0   \n",
       "2  102.05.01                 3200.0                    0.0   \n",
       "3  102.01.16                20000.0                    0.0   \n",
       "4  102.01.30                 4000.0                    0.0   \n",
       "\n",
       "   補助計畫案總經費及分攤情形-團體或私人自付金額  補助計畫案總經費及分攤情形-合計  截至本季累計撥款金額 分攤補助款機關名稱及金額(請逐一填列)  \\\n",
       "0                      NaN                 0           0                 NaN   \n",
       "1                      0.0              1696        1696                 NaN   \n",
       "2                      0.0              3200        3200                 NaN   \n",
       "3                      0.0             20000       20000                 NaN   \n",
       "4                      0.0              4000        4000                 NaN   \n",
       "\n",
       "  有無涉及財物或勞務採購  處理方式(如未涉及採購則毋須填列如採公開招標請填列得標廠商) 是否為除外規定之民間團體-是 是否為除外規定之民間團體-否  \n",
       "0         NaN                             NaN            NaN            NaN  \n",
       "1           無                             NaN              v            NaN  \n",
       "2           無                             NaN              v            NaN  \n",
       "3           無                             NaN              v            NaN  \n",
       "4           無                             NaN              v            NaN  "
      ]
     },
     "execution_count": 44,
     "metadata": {},
     "output_type": "execute_result"
    }
   ],
   "source": [
    "import pandas as pd\n",
    "df = pd.read_csv('a99cb335-0c34-4a4b-9d32-83fc569ab712.csv')\n",
    "df.head()"
   ]
  },
  {
   "cell_type": "markdown",
   "id": "92e9d432",
   "metadata": {},
   "source": [
    "1.涉及財物或勞務採購的有多少？"
   ]
  },
  {
   "cell_type": "code",
   "execution_count": 84,
   "id": "f980af50",
   "metadata": {},
   "outputs": [
    {
     "data": {
      "text/plain": [
       "Counter({nan: 1, '無': 624})"
      ]
     },
     "execution_count": 84,
     "metadata": {},
     "output_type": "execute_result"
    }
   ],
   "source": [
    "from collections import Counter\n",
    "count_class = Counter(df[\"有無涉及財物或勞務採購\"])\n",
    "count_class"
   ]
  },
  {
   "cell_type": "code",
   "execution_count": 85,
   "id": "d15b2cce",
   "metadata": {},
   "outputs": [
    {
     "data": {
      "text/html": [
       "<div>\n",
       "<style scoped>\n",
       "    .dataframe tbody tr th:only-of-type {\n",
       "        vertical-align: middle;\n",
       "    }\n",
       "\n",
       "    .dataframe tbody tr th {\n",
       "        vertical-align: top;\n",
       "    }\n",
       "\n",
       "    .dataframe thead th {\n",
       "        text-align: right;\n",
       "    }\n",
       "</style>\n",
       "<table border=\"1\" class=\"dataframe\">\n",
       "  <thead>\n",
       "    <tr style=\"text-align: right;\">\n",
       "      <th></th>\n",
       "      <th>Count</th>\n",
       "    </tr>\n",
       "  </thead>\n",
       "  <tbody>\n",
       "    <tr>\n",
       "      <th>NaN</th>\n",
       "      <td>1</td>\n",
       "    </tr>\n",
       "    <tr>\n",
       "      <th>無</th>\n",
       "      <td>624</td>\n",
       "    </tr>\n",
       "  </tbody>\n",
       "</table>\n",
       "</div>"
      ],
      "text/plain": [
       "     Count\n",
       "NaN      1\n",
       "無      624"
      ]
     },
     "execution_count": 85,
     "metadata": {},
     "output_type": "execute_result"
    }
   ],
   "source": [
    "df3 = pd.DataFrame.from_dict(count_class,orient='index',columns=[\"Count\"])\n",
    "df3"
   ]
  },
  {
   "cell_type": "markdown",
   "id": "10bdb293",
   "metadata": {},
   "source": [
    "2.是規定外的民間團體的事項有幾個？"
   ]
  },
  {
   "cell_type": "code",
   "execution_count": 96,
   "id": "1d8c92a9",
   "metadata": {},
   "outputs": [
    {
     "data": {
      "text/plain": [
       "Counter({nan: 4, 'v': 621})"
      ]
     },
     "execution_count": 96,
     "metadata": {},
     "output_type": "execute_result"
    }
   ],
   "source": [
    "from collections import Counter\n",
    "count_class = Counter(df[\"是否為除外規定之民間團體-是\"])\n",
    "count_class"
   ]
  },
  {
   "cell_type": "markdown",
   "id": "d5b5f7b1",
   "metadata": {},
   "source": [
    "3.本機關補助金額平均為多少？"
   ]
  },
  {
   "cell_type": "code",
   "execution_count": 40,
   "id": "cf990d7f",
   "metadata": {},
   "outputs": [
    {
     "name": "stdout",
     "output_type": "stream",
     "text": [
      "108260.59134615384\n"
     ]
    }
   ],
   "source": [
    "mean_data = data['補助計畫案總經費及分攤情形-本機關補助金額'].mean()\n",
    "print(mean_data)"
   ]
  },
  {
   "cell_type": "markdown",
   "id": "4e3413d2",
   "metadata": {},
   "source": [
    "答：約108260"
   ]
  },
  {
   "cell_type": "markdown",
   "id": "dffaa498",
   "metadata": {},
   "source": [
    "4.補助事項有哪幾種？各有幾次？"
   ]
  },
  {
   "cell_type": "code",
   "execution_count": 51,
   "id": "3a17177f",
   "metadata": {},
   "outputs": [
    {
     "data": {
      "text/plain": [
       "101學年第2學期獎補助身心障礙幼兒「招收單位」經費    114\n",
       "101學年度第2學期5歲幼兒免學費教育計畫-行政作業     96\n",
       "101學年第2學期5歲幼兒免學費教育計畫-行政作業      42\n",
       "102學年第1學期私立幼兒園行政作業費            41\n",
       "102學年第1學期獎助身障幼兒之「招收單位」經費       36\n",
       "                             ... \n",
       "102年花蓮縣B級劍道裁判講習會                1\n",
       "辦理HPB2013觀護盃籃球邀請賽               1\n",
       "102年全國運動會培訓經費                   1\n",
       "102年全國運動會參賽經費                   1\n",
       "102年度設置棒球基層訓練站週末對抗賽經費           1\n",
       "Name: 補助事項或用途, Length: 145, dtype: int64"
      ]
     },
     "execution_count": 51,
     "metadata": {},
     "output_type": "execute_result"
    }
   ],
   "source": [
    "df[\"補助事項或用途\"].value_counts()"
   ]
  },
  {
   "cell_type": "markdown",
   "id": "92772dc3",
   "metadata": {},
   "source": [
    "5.各事項補助金額為多少？"
   ]
  },
  {
   "cell_type": "code",
   "execution_count": 56,
   "id": "768da23d",
   "metadata": {},
   "outputs": [
    {
     "data": {
      "text/html": [
       "<div>\n",
       "<style scoped>\n",
       "    .dataframe tbody tr th:only-of-type {\n",
       "        vertical-align: middle;\n",
       "    }\n",
       "\n",
       "    .dataframe tbody tr th {\n",
       "        vertical-align: top;\n",
       "    }\n",
       "\n",
       "    .dataframe thead th {\n",
       "        text-align: right;\n",
       "    }\n",
       "</style>\n",
       "<table border=\"1\" class=\"dataframe\">\n",
       "  <thead>\n",
       "    <tr style=\"text-align: right;\">\n",
       "      <th></th>\n",
       "      <th>補助事項或用途</th>\n",
       "      <th>補助計畫案總經費及分攤情形-本機關補助金額</th>\n",
       "    </tr>\n",
       "  </thead>\n",
       "  <tbody>\n",
       "    <tr>\n",
       "      <th>0</th>\n",
       "      <td>NaN</td>\n",
       "      <td>NaN</td>\n",
       "    </tr>\n",
       "    <tr>\n",
       "      <th>1</th>\n",
       "      <td>補助國中畢業生多元進路宣導說明會經費</td>\n",
       "      <td>1696.0</td>\n",
       "    </tr>\n",
       "    <tr>\n",
       "      <th>2</th>\n",
       "      <td>補助國中畢業生多元進路宣導說明會經費</td>\n",
       "      <td>3200.0</td>\n",
       "    </tr>\n",
       "    <tr>\n",
       "      <th>3</th>\n",
       "      <td>補助辦理「遠哲科學紮根體驗營」活動經費</td>\n",
       "      <td>20000.0</td>\n",
       "    </tr>\n",
       "    <tr>\n",
       "      <th>4</th>\n",
       "      <td>478431號調查費</td>\n",
       "      <td>4000.0</td>\n",
       "    </tr>\n",
       "    <tr>\n",
       "      <th>...</th>\n",
       "      <td>...</td>\n",
       "      <td>...</td>\n",
       "    </tr>\n",
       "    <tr>\n",
       "      <th>620</th>\n",
       "      <td>2013世紀飛天龍、鯉魚展競技龍舟競渡嘉年華經費</td>\n",
       "      <td>100000.0</td>\n",
       "    </tr>\n",
       "    <tr>\n",
       "      <th>621</th>\n",
       "      <td>2013洄瀾國際鐵人三項精英賽</td>\n",
       "      <td>200000.0</td>\n",
       "    </tr>\n",
       "    <tr>\n",
       "      <th>622</th>\n",
       "      <td>102年度設置棒球基層訓練站週末對抗賽經費</td>\n",
       "      <td>30000.0</td>\n",
       "    </tr>\n",
       "    <tr>\n",
       "      <th>623</th>\n",
       "      <td>102年度學生棒球運動區域人才培育計畫活動經費</td>\n",
       "      <td>1119557.0</td>\n",
       "    </tr>\n",
       "    <tr>\n",
       "      <th>624</th>\n",
       "      <td>花蓮縣社區大學102年度經費</td>\n",
       "      <td>23000.0</td>\n",
       "    </tr>\n",
       "  </tbody>\n",
       "</table>\n",
       "<p>625 rows × 2 columns</p>\n",
       "</div>"
      ],
      "text/plain": [
       "                      補助事項或用途  補助計畫案總經費及分攤情形-本機關補助金額\n",
       "0                         NaN                    NaN\n",
       "1          補助國中畢業生多元進路宣導說明會經費                 1696.0\n",
       "2          補助國中畢業生多元進路宣導說明會經費                 3200.0\n",
       "3         補助辦理「遠哲科學紮根體驗營」活動經費                20000.0\n",
       "4                  478431號調查費                 4000.0\n",
       "..                        ...                    ...\n",
       "620  2013世紀飛天龍、鯉魚展競技龍舟競渡嘉年華經費               100000.0\n",
       "621           2013洄瀾國際鐵人三項精英賽               200000.0\n",
       "622     102年度設置棒球基層訓練站週末對抗賽經費                30000.0\n",
       "623   102年度學生棒球運動區域人才培育計畫活動經費              1119557.0\n",
       "624            花蓮縣社區大學102年度經費                23000.0\n",
       "\n",
       "[625 rows x 2 columns]"
      ]
     },
     "execution_count": 56,
     "metadata": {},
     "output_type": "execute_result"
    }
   ],
   "source": [
    "temp = df[['補助事項或用途', '補助計畫案總經費及分攤情形-本機關補助金額']]\n",
    "temp"
   ]
  },
  {
   "cell_type": "markdown",
   "id": "1326b910",
   "metadata": {},
   "source": [
    "6.本機關補助總額為多少？"
   ]
  },
  {
   "cell_type": "code",
   "execution_count": 57,
   "id": "7428fc6d",
   "metadata": {},
   "outputs": [
    {
     "name": "stdout",
     "output_type": "stream",
     "text": [
      "67554609.0\n"
     ]
    }
   ],
   "source": [
    "mean_df = df['補助計畫案總經費及分攤情形-本機關補助金額'].sum()\n",
    "print(mean_df)"
   ]
  },
  {
   "cell_type": "markdown",
   "id": "ccfb5812",
   "metadata": {},
   "source": [
    "7.未撥款金額為多少？"
   ]
  },
  {
   "cell_type": "code",
   "execution_count": 62,
   "id": "821e742f",
   "metadata": {},
   "outputs": [
    {
     "name": "stdout",
     "output_type": "stream",
     "text": [
      "0.0\n"
     ]
    }
   ],
   "source": [
    "df['未撥款金額'] = df['補助計畫案總經費及分攤情形-本機關補助金額'] - df['截至本季累計撥款金額']\n",
    "mean_df = df['未撥款金額'].sum()\n",
    "print(mean_df)"
   ]
  },
  {
   "cell_type": "markdown",
   "id": "f3b6b540",
   "metadata": {},
   "source": [
    "8.其他機關補助金額占多少百分比？"
   ]
  },
  {
   "cell_type": "code",
   "execution_count": 70,
   "id": "ec936943",
   "metadata": {},
   "outputs": [
    {
     "data": {
      "text/plain": [
       "69.91025882482718"
      ]
     },
     "execution_count": 70,
     "metadata": {},
     "output_type": "execute_result"
    }
   ],
   "source": [
    "others_count = df['補助計畫案總經費及分攤情形-他機關補助金額'].sum()\n",
    "our_count = df['補助計畫案總經費及分攤情形-本機關補助金額'].sum()\n",
    "percentage_all = (others_count / our_count) * 100\n",
    "percentage_all"
   ]
  },
  {
   "cell_type": "markdown",
   "id": "dabd4844",
   "metadata": {},
   "source": [
    "9.一天最多核准了幾件事項？"
   ]
  },
  {
   "cell_type": "code",
   "execution_count": 75,
   "id": "f749ddec",
   "metadata": {},
   "outputs": [
    {
     "data": {
      "text/html": [
       "<div>\n",
       "<style scoped>\n",
       "    .dataframe tbody tr th:only-of-type {\n",
       "        vertical-align: middle;\n",
       "    }\n",
       "\n",
       "    .dataframe tbody tr th {\n",
       "        vertical-align: top;\n",
       "    }\n",
       "\n",
       "    .dataframe thead th {\n",
       "        text-align: right;\n",
       "    }\n",
       "</style>\n",
       "<table border=\"1\" class=\"dataframe\">\n",
       "  <thead>\n",
       "    <tr style=\"text-align: right;\">\n",
       "      <th></th>\n",
       "      <th>Count</th>\n",
       "    </tr>\n",
       "  </thead>\n",
       "  <tbody>\n",
       "    <tr>\n",
       "      <th>NaN</th>\n",
       "      <td>1</td>\n",
       "    </tr>\n",
       "    <tr>\n",
       "      <th>102.05.01</th>\n",
       "      <td>8</td>\n",
       "    </tr>\n",
       "    <tr>\n",
       "      <th>102.01.16</th>\n",
       "      <td>3</td>\n",
       "    </tr>\n",
       "    <tr>\n",
       "      <th>102.01.30</th>\n",
       "      <td>9</td>\n",
       "    </tr>\n",
       "    <tr>\n",
       "      <th>102.04.23</th>\n",
       "      <td>16</td>\n",
       "    </tr>\n",
       "    <tr>\n",
       "      <th>...</th>\n",
       "      <td>...</td>\n",
       "    </tr>\n",
       "    <tr>\n",
       "      <th>102.12.02</th>\n",
       "      <td>1</td>\n",
       "    </tr>\n",
       "    <tr>\n",
       "      <th>103.01.10</th>\n",
       "      <td>2</td>\n",
       "    </tr>\n",
       "    <tr>\n",
       "      <th>102.11.13</th>\n",
       "      <td>1</td>\n",
       "    </tr>\n",
       "    <tr>\n",
       "      <th>102.01.11</th>\n",
       "      <td>1</td>\n",
       "    </tr>\n",
       "    <tr>\n",
       "      <th>102.11.14</th>\n",
       "      <td>1</td>\n",
       "    </tr>\n",
       "  </tbody>\n",
       "</table>\n",
       "<p>101 rows × 1 columns</p>\n",
       "</div>"
      ],
      "text/plain": [
       "           Count\n",
       "NaN            1\n",
       "102.05.01      8\n",
       "102.01.16      3\n",
       "102.01.30      9\n",
       "102.04.23     16\n",
       "...          ...\n",
       "102.12.02      1\n",
       "103.01.10      2\n",
       "102.11.13      1\n",
       "102.01.11      1\n",
       "102.11.14      1\n",
       "\n",
       "[101 rows x 1 columns]"
      ]
     },
     "execution_count": 75,
     "metadata": {},
     "output_type": "execute_result"
    }
   ],
   "source": [
    "from collections import Counter\n",
    "count_class = Counter(df[\"核准日期\"])\n",
    "count_class\n",
    "df2 = pd.DataFrame.from_dict(count_class,orient='index',columns=[\"Count\"])\n",
    "df2"
   ]
  },
  {
   "cell_type": "code",
   "execution_count": 79,
   "id": "9b8c36bd",
   "metadata": {},
   "outputs": [
    {
     "data": {
      "text/plain": [
       "114"
      ]
     },
     "execution_count": 79,
     "metadata": {},
     "output_type": "execute_result"
    }
   ],
   "source": [
    "most_day=df2['Count'].max()\n",
    "most_day"
   ]
  },
  {
   "cell_type": "markdown",
   "id": "3abbbe19",
   "metadata": {},
   "source": [
    "10.計畫的總經費總共為多少？"
   ]
  },
  {
   "cell_type": "code",
   "execution_count": 80,
   "id": "5286fa44",
   "metadata": {},
   "outputs": [
    {
     "data": {
      "text/plain": [
       "147070796"
      ]
     },
     "execution_count": 80,
     "metadata": {},
     "output_type": "execute_result"
    }
   ],
   "source": [
    "all_money = data['補助計畫案總經費及分攤情形-合計'].sum()\n",
    "all_money"
   ]
  }
 ],
 "metadata": {
  "kernelspec": {
   "display_name": "Python 3 (ipykernel)",
   "language": "python",
   "name": "python3"
  },
  "language_info": {
   "codemirror_mode": {
    "name": "ipython",
    "version": 3
   },
   "file_extension": ".py",
   "mimetype": "text/x-python",
   "name": "python",
   "nbconvert_exporter": "python",
   "pygments_lexer": "ipython3",
   "version": "3.9.13"
  }
 },
 "nbformat": 4,
 "nbformat_minor": 5
}
