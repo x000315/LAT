{
 "cells": [
  {
   "cell_type": "code",
   "execution_count": 6,
   "id": "0c30985d",
   "metadata": {},
   "outputs": [
    {
     "data": {
      "text/html": [
       "<div>\n",
       "<style scoped>\n",
       "    .dataframe tbody tr th:only-of-type {\n",
       "        vertical-align: middle;\n",
       "    }\n",
       "\n",
       "    .dataframe tbody tr th {\n",
       "        vertical-align: top;\n",
       "    }\n",
       "\n",
       "    .dataframe thead th {\n",
       "        text-align: right;\n",
       "    }\n",
       "</style>\n",
       "<table border=\"1\" class=\"dataframe\">\n",
       "  <thead>\n",
       "    <tr style=\"text-align: right;\">\n",
       "      <th></th>\n",
       "      <th>工作計畫名稱及預算數(僅列補助團體私人預算金額)</th>\n",
       "      <th>補助事項或用途</th>\n",
       "      <th>補助對象團體全銜或私人姓名</th>\n",
       "      <th>核准日期</th>\n",
       "      <th>補助計畫案總經費及分攤情形-本機關補助金額</th>\n",
       "      <th>補助計畫案總經費及分攤情形-他機關補助金額</th>\n",
       "      <th>補助計畫案總經費及分攤情形-團體或私人自付金額</th>\n",
       "      <th>補助計畫案總經費及分攤情形-合計</th>\n",
       "      <th>截至本季累計撥款金額</th>\n",
       "      <th>分攤補助款機關名稱及金額(請逐一填列)</th>\n",
       "      <th>有無涉及財物或勞務採購</th>\n",
       "      <th>處理方式(如未涉及採購則毋須填列如採公開招標請填列得標廠商)</th>\n",
       "      <th>是否為除外規定之民間團體-是</th>\n",
       "      <th>是否為除外規定之民間團體-否</th>\n",
       "    </tr>\n",
       "  </thead>\n",
       "  <tbody>\n",
       "    <tr>\n",
       "      <th>0</th>\n",
       "      <td>國民中學學務管理及獎補助(3000000元)</td>\n",
       "      <td>NaN</td>\n",
       "      <td>NaN</td>\n",
       "      <td>NaN</td>\n",
       "      <td>NaN</td>\n",
       "      <td>NaN</td>\n",
       "      <td>NaN</td>\n",
       "      <td>0</td>\n",
       "      <td>0</td>\n",
       "      <td>NaN</td>\n",
       "      <td>NaN</td>\n",
       "      <td>NaN</td>\n",
       "      <td>NaN</td>\n",
       "      <td>NaN</td>\n",
       "    </tr>\n",
       "    <tr>\n",
       "      <th>1</th>\n",
       "      <td>中央補助國民中學教育經費(0元)</td>\n",
       "      <td>補助國中畢業生多元進路宣導說明會經費</td>\n",
       "      <td>慈濟學校財團法人慈濟大學附屬高級中學</td>\n",
       "      <td>102.05.01</td>\n",
       "      <td>1696.0</td>\n",
       "      <td>0.0</td>\n",
       "      <td>0.0</td>\n",
       "      <td>1696</td>\n",
       "      <td>1696</td>\n",
       "      <td>NaN</td>\n",
       "      <td>無</td>\n",
       "      <td>NaN</td>\n",
       "      <td>v</td>\n",
       "      <td>NaN</td>\n",
       "    </tr>\n",
       "    <tr>\n",
       "      <th>2</th>\n",
       "      <td>NaN</td>\n",
       "      <td>補助國中畢業生多元進路宣導說明會經費</td>\n",
       "      <td>財團法人臺灣省花蓮縣私立海星高級中學</td>\n",
       "      <td>102.05.01</td>\n",
       "      <td>3200.0</td>\n",
       "      <td>0.0</td>\n",
       "      <td>0.0</td>\n",
       "      <td>3200</td>\n",
       "      <td>3200</td>\n",
       "      <td>NaN</td>\n",
       "      <td>無</td>\n",
       "      <td>NaN</td>\n",
       "      <td>v</td>\n",
       "      <td>NaN</td>\n",
       "    </tr>\n",
       "    <tr>\n",
       "      <th>3</th>\n",
       "      <td>國民小學學務管理及獎補助(3019000元)</td>\n",
       "      <td>補助辦理「遠哲科學紮根體驗營」活動經費</td>\n",
       "      <td>財團法人遠哲科學教育基金會</td>\n",
       "      <td>102.01.16</td>\n",
       "      <td>20000.0</td>\n",
       "      <td>0.0</td>\n",
       "      <td>0.0</td>\n",
       "      <td>20000</td>\n",
       "      <td>20000</td>\n",
       "      <td>NaN</td>\n",
       "      <td>無</td>\n",
       "      <td>NaN</td>\n",
       "      <td>v</td>\n",
       "      <td>NaN</td>\n",
       "    </tr>\n",
       "    <tr>\n",
       "      <th>4</th>\n",
       "      <td>NaN</td>\n",
       "      <td>478431號調查費</td>\n",
       "      <td>財團法人花蓮縣私立海星國民小學</td>\n",
       "      <td>102.01.30</td>\n",
       "      <td>4000.0</td>\n",
       "      <td>0.0</td>\n",
       "      <td>0.0</td>\n",
       "      <td>4000</td>\n",
       "      <td>4000</td>\n",
       "      <td>NaN</td>\n",
       "      <td>無</td>\n",
       "      <td>NaN</td>\n",
       "      <td>v</td>\n",
       "      <td>NaN</td>\n",
       "    </tr>\n",
       "  </tbody>\n",
       "</table>\n",
       "</div>"
      ],
      "text/plain": [
       "  工作計畫名稱及預算數(僅列補助團體私人預算金額)              補助事項或用途 補助對象團體全銜或私人姓名          \\\n",
       "0   國民中學學務管理及獎補助(3000000元)                  NaN                   NaN   \n",
       "1         中央補助國民中學教育經費(0元)   補助國中畢業生多元進路宣導說明會經費    慈濟學校財團法人慈濟大學附屬高級中學   \n",
       "2                      NaN   補助國中畢業生多元進路宣導說明會經費    財團法人臺灣省花蓮縣私立海星高級中學   \n",
       "3   國民小學學務管理及獎補助(3019000元)  補助辦理「遠哲科學紮根體驗營」活動經費         財團法人遠哲科學教育基金會   \n",
       "4                      NaN           478431號調查費       財團法人花蓮縣私立海星國民小學   \n",
       "\n",
       "        核准日期  補助計畫案總經費及分攤情形-本機關補助金額  補助計畫案總經費及分攤情形-他機關補助金額  \\\n",
       "0        NaN                    NaN                    NaN   \n",
       "1  102.05.01                 1696.0                    0.0   \n",
       "2  102.05.01                 3200.0                    0.0   \n",
       "3  102.01.16                20000.0                    0.0   \n",
       "4  102.01.30                 4000.0                    0.0   \n",
       "\n",
       "   補助計畫案總經費及分攤情形-團體或私人自付金額  補助計畫案總經費及分攤情形-合計  截至本季累計撥款金額 分攤補助款機關名稱及金額(請逐一填列)  \\\n",
       "0                      NaN                 0           0                 NaN   \n",
       "1                      0.0              1696        1696                 NaN   \n",
       "2                      0.0              3200        3200                 NaN   \n",
       "3                      0.0             20000       20000                 NaN   \n",
       "4                      0.0              4000        4000                 NaN   \n",
       "\n",
       "  有無涉及財物或勞務採購  處理方式(如未涉及採購則毋須填列如採公開招標請填列得標廠商) 是否為除外規定之民間團體-是 是否為除外規定之民間團體-否  \n",
       "0         NaN                             NaN            NaN            NaN  \n",
       "1           無                             NaN              v            NaN  \n",
       "2           無                             NaN              v            NaN  \n",
       "3           無                             NaN              v            NaN  \n",
       "4           無                             NaN              v            NaN  "
      ]
     },
     "execution_count": 6,
     "metadata": {},
     "output_type": "execute_result"
    }
   ],
   "source": [
    "import pandas as pd\n",
    "data = pd.read_csv('a99cb335-0c34-4a4b-9d32-83fc569ab712.csv')\n",
    "data.head()"
   ]
  },
  {
   "cell_type": "markdown",
   "id": "92e9d432",
   "metadata": {},
   "source": [
    "1.涉及財物或勞務採購的有多少？"
   ]
  },
  {
   "cell_type": "code",
   "execution_count": 8,
   "id": "3b6cb326",
   "metadata": {},
   "outputs": [
    {
     "data": {
      "text/plain": [
       "Counter({nan: 2, '無': 136})"
      ]
     },
     "execution_count": 8,
     "metadata": {},
     "output_type": "execute_result"
    }
   ],
   "source": [
    "count_class = Counter(df[\"有無涉及財物或勞務採購\"])\n",
    "count_class"
   ]
  },
  {
   "cell_type": "code",
   "execution_count": 9,
   "id": "d7e824d7",
   "metadata": {},
   "outputs": [
    {
     "data": {
      "text/html": [
       "<div>\n",
       "<style scoped>\n",
       "    .dataframe tbody tr th:only-of-type {\n",
       "        vertical-align: middle;\n",
       "    }\n",
       "\n",
       "    .dataframe tbody tr th {\n",
       "        vertical-align: top;\n",
       "    }\n",
       "\n",
       "    .dataframe thead th {\n",
       "        text-align: right;\n",
       "    }\n",
       "</style>\n",
       "<table border=\"1\" class=\"dataframe\">\n",
       "  <thead>\n",
       "    <tr style=\"text-align: right;\">\n",
       "      <th></th>\n",
       "      <th>Count</th>\n",
       "    </tr>\n",
       "  </thead>\n",
       "  <tbody>\n",
       "    <tr>\n",
       "      <th>NaN</th>\n",
       "      <td>2</td>\n",
       "    </tr>\n",
       "    <tr>\n",
       "      <th>無</th>\n",
       "      <td>136</td>\n",
       "    </tr>\n",
       "  </tbody>\n",
       "</table>\n",
       "</div>"
      ],
      "text/plain": [
       "     Count\n",
       "NaN      2\n",
       "無      136"
      ]
     },
     "execution_count": 9,
     "metadata": {},
     "output_type": "execute_result"
    }
   ],
   "source": [
    "df2 = pd.DataFrame.from_dict(count_class,orient='index',columns=[\"Count\"])\n",
    "df2"
   ]
  },
  {
   "cell_type": "markdown",
   "id": "0d5949dc",
   "metadata": {},
   "source": [
    "答：沒有涉及財務或勞務採購的有136個，資料不明有2個。"
   ]
  },
  {
   "cell_type": "markdown",
   "id": "d5b5f7b1",
   "metadata": {},
   "source": [
    "2.本機關補助金額平均為多少？"
   ]
  },
  {
   "cell_type": "code",
   "execution_count": 20,
   "id": "cf990d7f",
   "metadata": {},
   "outputs": [
    {
     "name": "stdout",
     "output_type": "stream",
     "text": [
      "197895.86861313868\n"
     ]
    }
   ],
   "source": [
    "mean_df = df['補助計畫案總經費及分攤情形-本機關補助金額'].mean()\n",
    "print(mean_df)"
   ]
  },
  {
   "cell_type": "markdown",
   "id": "4e3413d2",
   "metadata": {},
   "source": [
    "答：約197896"
   ]
  },
  {
   "cell_type": "markdown",
   "id": "dffaa498",
   "metadata": {},
   "source": [
    "3."
   ]
  }
 ],
 "metadata": {
  "kernelspec": {
   "display_name": "Python 3 (ipykernel)",
   "language": "python",
   "name": "python3"
  },
  "language_info": {
   "codemirror_mode": {
    "name": "ipython",
    "version": 3
   },
   "file_extension": ".py",
   "mimetype": "text/x-python",
   "name": "python",
   "nbconvert_exporter": "python",
   "pygments_lexer": "ipython3",
   "version": "3.9.13"
  }
 },
 "nbformat": 4,
 "nbformat_minor": 5
}
